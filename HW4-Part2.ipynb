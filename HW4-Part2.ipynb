{
 "cells": [
  {
   "cell_type": "markdown",
   "metadata": {},
   "source": [
    "# 2) Find the duplicates!"
   ]
  },
  {
   "cell_type": "markdown",
   "metadata": {},
   "source": [
    "#### Hash Functions and Hash Tables\n",
    "#### Our Algorithm for non-ordered case:\n",
    "First, We define a create_alphabet_table(alphabet) function that get as an input the alphapet and pecial characters as a list, for each character, it give a number and then as an output it will gives an alphabet_table, we calculated each character number by using the hash function in python and produce it by a prime number that we store in primes1 list. Formula:\n",
    "$$ alphabettable[c]=abs(hash(c) · prime)$$\n",
    "Then, we define our first hash function,string to number, that convert the string to a number by summing the numbers of string's characters from the alphabet_table.\n",
    "$$paswordhash= \\sum_{c=1}^n alphabettable[c]$$\n",
    "Finally, we define a second hash function that apply this algorithm: number_to_hash_I function\n",
    "##### . Choose a prime p betwen M and 2*M, where M is the interval of our strings' numbers \"keys\"\n",
    "##### . Then the hash function will be:\n",
    "$$h(k) = ((a·k+b) mod p) mod N$$\n",
    "where k is the number of the string, a is a random number: 0<a<p and b a random number: 0≤b<p\n",
    "and N is the length of the hash table, we chose the prime number 99999999977.\n",
    "Then for each password we convert it to a number then we hash it and store it as a sorted string in a text file with two columns: password, hash, as you can see in the function: \n",
    "#### Our Algorithm for ordered case:\n",
    "tHis algorithm different from previous case just in string to number function where here we will sum the numbers of string's characters from the alphabet_table * index of the character in the string, considering that the string index beginning from 2 just to increase the effect of the character order,$$paswordhash= \\sum_{c=1}^n alphabettable[c]· c$$ and also we don't sort the string's characters before storing as in the other case.\n",
    "#### False Positive:\n",
    "To find the false positive, we define \"FB\" function that read the text files that we got in hashing part, then build a dictionary \"FB_d\" that contain the hash values as keys and a set of passwords that have same hash as values, then after building this dictionary we add the length - 1 of each set contain more than two values to \"FB_Count\" variable, considering that each set contain len(set)-1 collisions with the first value of the set."
   ]
  },
  {
   "cell_type": "code",
   "execution_count": 3,
   "metadata": {},
   "outputs": [],
   "source": [
    "import math\n",
    "import numpy as np\n",
    "import random"
   ]
  },
  {
   "cell_type": "code",
   "execution_count": 4,
   "metadata": {},
   "outputs": [],
   "source": [
    "from random import shuffle"
   ]
  },
  {
   "cell_type": "code",
   "execution_count": 53,
   "metadata": {},
   "outputs": [],
   "source": [
    "# This function to check if the number is prime or not\n",
    "def is_prime(number):\n",
    "    for j in range(2, int(math.sqrt(number)+1)):\n",
    "        if (number % j) == 0:\n",
    "            return False\n",
    "    return True"
   ]
  },
  {
   "cell_type": "code",
   "execution_count": null,
   "metadata": {},
   "outputs": [],
   "source": [
    "#creating a file with prime numbers between M and 2*M, P\n",
    "with open(\"outprimesfile.txt\", \"w\") as text_file:\n",
    "    for i in range(700000000000000000000,1400000000000000000000):\n",
    "        if is_prime(i):\n",
    "            text_file.write(str(i)+'\\n')\n",
    "text_file.close()"
   ]
  },
  {
   "cell_type": "code",
   "execution_count": 6,
   "metadata": {},
   "outputs": [],
   "source": [
    "#This file \"outprimesff\" contain a 9 digits prime numbers which will we use to create the alphabet hash list\n",
    "primes1=[]\n",
    "with open(\"outprimesff.txt\", \"r\") as r:\n",
    "        for prime in r:\n",
    "            primes1.append(prime.replace('\\n',''))\n",
    "r.close()\n",
    "shuffle(primes1)"
   ]
  },
  {
   "cell_type": "code",
   "execution_count": 7,
   "metadata": {},
   "outputs": [],
   "source": [
    "# primes list which contain possible values of P\n",
    "primes=[]\n",
    "with open(\"outprimesfile.txt\", \"r\") as r:\n",
    "        for prime in r:\n",
    "            primes.append(prime.replace('\\n',''))\n",
    "r.close()\n",
    "shuffle(primes)"
   ]
  },
  {
   "cell_type": "code",
   "execution_count": 8,
   "metadata": {},
   "outputs": [],
   "source": [
    "#Defining the alphabet letters and special characters\n",
    "Alphabet=['A','B','C','D','E','F','G','H','I','J','K','L','M','N','O','P','Q','R','S','T','U','V','W','X','Y','Z','a','b','c','d','e','f','g','h','i','j','k','l','m','n','o','p','q','r','s','t','u','v','w','x','y','z','1','2','3','4','5','6','7','8','9','0','<','>','\\\\','/','!','@','#','$','%','^','*','&','.',',','\"','\\'',':',';','(',')','?','+','=','-']"
   ]
  },
  {
   "cell_type": "code",
   "execution_count": 9,
   "metadata": {},
   "outputs": [],
   "source": [
    "#give each letter a number to use in converting string to large number process\n",
    "def create_alphabet_table(alphabet):\n",
    "    alpha=dict()\n",
    "    for c in alphabet:\n",
    "        alpha[c]=abs(hash(c)*int(primes1[random.randint(0, len(primes1)-2)]))\n",
    "    return alpha\n",
    "#converting password string to a large number, non order case\n",
    "def string_to_number_ignoring_order(password,alphabet_table):\n",
    "    pasword_hash=0\n",
    "    for c in password:\n",
    "        pasword_hash+=alphabet_table[c]\n",
    "    return pasword_hash"
   ]
  },
  {
   "cell_type": "code",
   "execution_count": 11,
   "metadata": {},
   "outputs": [],
   "source": [
    "alphabet_table=create_alphabet_table(Alphabet)"
   ]
  },
  {
   "cell_type": "code",
   "execution_count": 14,
   "metadata": {},
   "outputs": [
    {
     "data": {
      "text/html": [
       "<div>\n",
       "<style scoped>\n",
       "    .dataframe tbody tr th:only-of-type {\n",
       "        vertical-align: middle;\n",
       "    }\n",
       "\n",
       "    .dataframe tbody tr th {\n",
       "        vertical-align: top;\n",
       "    }\n",
       "\n",
       "    .dataframe thead th {\n",
       "        text-align: right;\n",
       "    }\n",
       "</style>\n",
       "<table border=\"1\" class=\"dataframe\">\n",
       "  <thead>\n",
       "    <tr style=\"text-align: right;\">\n",
       "      <th></th>\n",
       "      <th>0</th>\n",
       "    </tr>\n",
       "  </thead>\n",
       "  <tbody>\n",
       "    <tr>\n",
       "      <th>A</th>\n",
       "      <td>12869310408512279817</td>\n",
       "    </tr>\n",
       "    <tr>\n",
       "      <th>B</th>\n",
       "      <td>35678008092121553746</td>\n",
       "    </tr>\n",
       "    <tr>\n",
       "      <th>C</th>\n",
       "      <td>22503307280597754940</td>\n",
       "    </tr>\n",
       "    <tr>\n",
       "      <th>D</th>\n",
       "      <td>40362414180771602880</td>\n",
       "    </tr>\n",
       "    <tr>\n",
       "      <th>E</th>\n",
       "      <td>43601387269565635688</td>\n",
       "    </tr>\n",
       "  </tbody>\n",
       "</table>\n",
       "</div>"
      ],
      "text/plain": [
       "                      0\n",
       "A  12869310408512279817\n",
       "B  35678008092121553746\n",
       "C  22503307280597754940\n",
       "D  40362414180771602880\n",
       "E  43601387269565635688"
      ]
     },
     "execution_count": 14,
     "metadata": {},
     "output_type": "execute_result"
    }
   ],
   "source": [
    "pd.DataFrame.from_dict(alphabet_table,orient='index').head()"
   ]
  },
  {
   "cell_type": "code",
   "execution_count": 59,
   "metadata": {},
   "outputs": [
    {
     "data": {
      "text/plain": [
       "134972597154273191913"
      ]
     },
     "execution_count": 59,
     "metadata": {},
     "output_type": "execute_result"
    }
   ],
   "source": [
    "string_to_number_ignoring_order('aaba',alphabet_table)"
   ]
  },
  {
   "cell_type": "code",
   "execution_count": 60,
   "metadata": {},
   "outputs": [
    {
     "data": {
      "text/plain": [
       "134972597154273191913"
      ]
     },
     "execution_count": 60,
     "metadata": {},
     "output_type": "execute_result"
    }
   ],
   "source": [
    "string_to_number_ignoring_order('aaab',alphabet_table)"
   ]
  },
  {
   "cell_type": "code",
   "execution_count": 61,
   "metadata": {},
   "outputs": [],
   "source": [
    "#number to hash function, non order case, here we sort the password before storing\n",
    "def number_to_hash_I():\n",
    "    with open(\"passwords.txt\", \"r\") as r,open(\"passwordshashnumbersIII.txt\", \"w\") as rr:\n",
    "        for password in r:\n",
    "            string_to_number=string_to_number_ignoring_order(password.replace('\\n',''),alphabet_table)\n",
    "            p =int(primes[random.randint(0, len(primes)-1)])\n",
    "            a = random.randint(1, p-1)\n",
    "            b = random.randint(0, p-1)\n",
    "            number_to_hash=((a*string_to_number+b) % p) % 99999999977\n",
    "            password1=str(''.join(sorted(password.replace('\\n',' '))))\n",
    "            rr.write(password1+' '+str(number_to_hash)+'\\n')"
   ]
  },
  {
   "cell_type": "code",
   "execution_count": null,
   "metadata": {},
   "outputs": [],
   "source": [
    "number_to_hash_I()"
   ]
  },
  {
   "cell_type": "code",
   "execution_count": 62,
   "metadata": {},
   "outputs": [],
   "source": [
    "#converting password string to a large number, order case\n",
    "def string_to_number_considering_order(password,alphabet_table):\n",
    "    pasword_hash=0\n",
    "    j=2\n",
    "    for c in password:\n",
    "        pasword_hash+=alphabet_table[c]*j\n",
    "        j+=1\n",
    "    return pasword_hash"
   ]
  },
  {
   "cell_type": "code",
   "execution_count": 65,
   "metadata": {},
   "outputs": [
    {
     "data": {
      "text/plain": [
       "461562574396820114828"
      ]
     },
     "execution_count": 65,
     "metadata": {},
     "output_type": "execute_result"
    }
   ],
   "source": [
    "string_to_number_considering_order('aaba',alphabet_table)"
   ]
  },
  {
   "cell_type": "code",
   "execution_count": 66,
   "metadata": {},
   "outputs": [
    {
     "data": {
      "text/plain": [
       "439879543110548001093"
      ]
     },
     "execution_count": 66,
     "metadata": {},
     "output_type": "execute_result"
    }
   ],
   "source": [
    "string_to_number_considering_order('aaab',alphabet_table)"
   ]
  },
  {
   "cell_type": "code",
   "execution_count": 68,
   "metadata": {},
   "outputs": [],
   "source": [
    "#number to hash, consider order case, here we don't sorted the password before storing\n",
    "def number_to_hash_C():\n",
    "    with open(\"passwords.txt\", \"r\") as r,open(\"passwordshashnumbersCCC.txt\", \"w\") as rr:\n",
    "        for password in r:\n",
    "            string_to_number=string_to_number_considering_order(password.replace('\\n',''),alphabet_table)\n",
    "            p =int(primes[random.randint(0, len(primes)-1)])\n",
    "            a = random.randint(1, p-1)\n",
    "            b = random.randint(0, p-1)\n",
    "            number_to_hash=((a*string_to_number+b) % p) % 99999999977\n",
    "            rr.write(password.replace('\\n','')+' '+str(number_to_hash)+'\\n')"
   ]
  },
  {
   "cell_type": "code",
   "execution_count": null,
   "metadata": {},
   "outputs": [],
   "source": [
    "number_to_hash_C()"
   ]
  },
  {
   "cell_type": "code",
   "execution_count": 1,
   "metadata": {},
   "outputs": [],
   "source": [
    "import pandas as pd\n",
    "import csv"
   ]
  },
  {
   "cell_type": "code",
   "execution_count": 2,
   "metadata": {},
   "outputs": [],
   "source": [
    "#this fnction is to read the txt files that we got as output from number_to_hash_I() and number_to_hash_C() functions\n",
    "def data_aggregator(path,chunksize,columnname):\n",
    "    result = pd.DataFrame()\n",
    "    for chunk in pd.read_csv(path,sep=' ',chunksize=chunksize,names=['password','hash'],encoding='utf-8',quoting=csv.QUOTE_NONE):\n",
    "        result=result.append(pd.DataFrame(chunk[columnname]))\n",
    "    return result"
   ]
  },
  {
   "cell_type": "markdown",
   "metadata": {},
   "source": [
    "### 1. non ordered case"
   ]
  },
  {
   "cell_type": "code",
   "execution_count": 31,
   "metadata": {},
   "outputs": [],
   "source": [
    "#reading the password and hash columns from the txt file that produced from number_to_hash_I() function\n",
    "df=data_aggregator(\"passwordshashnumbersIII.txt\",10000,['password','hash'])"
   ]
  },
  {
   "cell_type": "code",
   "execution_count": 34,
   "metadata": {},
   "outputs": [
    {
     "data": {
      "text/html": [
       "<div>\n",
       "<style scoped>\n",
       "    .dataframe tbody tr th:only-of-type {\n",
       "        vertical-align: middle;\n",
       "    }\n",
       "\n",
       "    .dataframe tbody tr th {\n",
       "        vertical-align: top;\n",
       "    }\n",
       "\n",
       "    .dataframe thead th {\n",
       "        text-align: right;\n",
       "    }\n",
       "</style>\n",
       "<table border=\"1\" class=\"dataframe\">\n",
       "  <thead>\n",
       "    <tr style=\"text-align: right;\">\n",
       "      <th></th>\n",
       "      <th>password</th>\n",
       "      <th>hash</th>\n",
       "    </tr>\n",
       "  </thead>\n",
       "  <tbody>\n",
       "    <tr>\n",
       "      <th>0</th>\n",
       "      <td>\"$-/3DHIOQTUYcdefqrv</td>\n",
       "      <td>26951500055</td>\n",
       "    </tr>\n",
       "    <tr>\n",
       "      <th>1</th>\n",
       "      <td>\"$&amp;(*+.36AMOQUaeortx</td>\n",
       "      <td>35990329136</td>\n",
       "    </tr>\n",
       "    <tr>\n",
       "      <th>2</th>\n",
       "      <td>'*-/6;HMNPThjkloqruw</td>\n",
       "      <td>20102137125</td>\n",
       "    </tr>\n",
       "    <tr>\n",
       "      <th>3</th>\n",
       "      <td>\"%*3579@ACJMSbefhlux</td>\n",
       "      <td>58195741152</td>\n",
       "    </tr>\n",
       "    <tr>\n",
       "      <th>4</th>\n",
       "      <td>\"#'5;=BCIJLSbijmpuxy</td>\n",
       "      <td>2013483790</td>\n",
       "    </tr>\n",
       "  </tbody>\n",
       "</table>\n",
       "</div>"
      ],
      "text/plain": [
       "               password         hash\n",
       "0  \"$-/3DHIOQTUYcdefqrv  26951500055\n",
       "1  \"$&(*+.36AMOQUaeortx  35990329136\n",
       "2  '*-/6;HMNPThjkloqruw  20102137125\n",
       "3  \"%*3579@ACJMSbefhlux  58195741152\n",
       "4  \"#'5;=BCIJLSbijmpuxy   2013483790"
      ]
     },
     "execution_count": 34,
     "metadata": {},
     "output_type": "execute_result"
    }
   ],
   "source": [
    "df.head()"
   ]
  },
  {
   "cell_type": "code",
   "execution_count": 69,
   "metadata": {},
   "outputs": [],
   "source": [
    "df=None\n",
    "del df"
   ]
  },
  {
   "cell_type": "markdown",
   "metadata": {},
   "source": [
    "#### Password"
   ]
  },
  {
   "cell_type": "code",
   "execution_count": 25,
   "metadata": {},
   "outputs": [],
   "source": [
    "#reading the password column from the txt file that produced from number_to_hash_I() function\n",
    "df=data_aggregator(\"passwordshashnumbersIII.txt\",10000,'password')"
   ]
  },
  {
   "cell_type": "markdown",
   "metadata": {},
   "source": [
    "##### Find the duplicates count of password column"
   ]
  },
  {
   "cell_type": "code",
   "execution_count": 26,
   "metadata": {},
   "outputs": [],
   "source": [
    "d=df.groupby(df.password.tolist(),as_index=False).size().reset_index(name='Count')"
   ]
  },
  {
   "cell_type": "code",
   "execution_count": 27,
   "metadata": {},
   "outputs": [],
   "source": [
    "dup_count_i=d.loc[d.Count>1].sum()"
   ]
  },
  {
   "cell_type": "code",
   "execution_count": 29,
   "metadata": {},
   "outputs": [],
   "source": [
    "password_dup_i=dup_count_i.Count"
   ]
  },
  {
   "cell_type": "code",
   "execution_count": 30,
   "metadata": {},
   "outputs": [
    {
     "data": {
      "text/plain": [
       "10000000"
      ]
     },
     "execution_count": 30,
     "metadata": {},
     "output_type": "execute_result"
    }
   ],
   "source": [
    "password_dup_i"
   ]
  },
  {
   "cell_type": "code",
   "execution_count": 70,
   "metadata": {},
   "outputs": [],
   "source": [
    "df=None\n",
    "del df\n",
    "d=None\n",
    "del d"
   ]
  },
  {
   "cell_type": "markdown",
   "metadata": {},
   "source": [
    "### FB count"
   ]
  },
  {
   "cell_type": "code",
   "execution_count": 14,
   "metadata": {},
   "outputs": [],
   "source": [
    "'''this function is to count the FB'''\n",
    "'''we directly count the fb we don't count the real duplicates'''\n",
    "def FB(filename):\n",
    "    FB_Count=0\n",
    "    FB_d=dict()\n",
    "    with open(filename, \"r\") as r:\n",
    "        for line in r:\n",
    "            hashh=line.split(' ')[1].replace('\\n','')\n",
    "            password=line.split(' ')[0].replace('\\n','')\n",
    "            if hashh not in FB_d:\n",
    "                FB_d[hashh]=[password]\n",
    "            elif password not in FB_d[hashh]:\n",
    "                FB_d[hashh].append(password)\n",
    "    for key in FB_d.keys():\n",
    "        if len(FB_d[key])>1:\n",
    "            FB_Count+=len(FB_d[key])-1\n",
    "    return FB_Count,FB_d"
   ]
  },
  {
   "cell_type": "code",
   "execution_count": 48,
   "metadata": {},
   "outputs": [
    {
     "data": {
      "text/plain": [
       "3028"
      ]
     },
     "execution_count": 48,
     "metadata": {},
     "output_type": "execute_result"
    }
   ],
   "source": [
    "FB('passwordshashnumbersIII.txt')"
   ]
  },
  {
   "cell_type": "markdown",
   "metadata": {},
   "source": [
    "In non ordered case: duplicates=10000000,FB=3028"
   ]
  },
  {
   "cell_type": "markdown",
   "metadata": {},
   "source": [
    "### 2. ordered case"
   ]
  },
  {
   "cell_type": "code",
   "execution_count": 37,
   "metadata": {},
   "outputs": [],
   "source": [
    "#reading the password and hash columns from the txt file that produced from number_to_hash_C() function\n",
    "df=data_aggregator(\"passwordshashnumbersCCC.txt\",10000,['password','hash'])"
   ]
  },
  {
   "cell_type": "code",
   "execution_count": 39,
   "metadata": {},
   "outputs": [
    {
     "data": {
      "text/html": [
       "<div>\n",
       "<style scoped>\n",
       "    .dataframe tbody tr th:only-of-type {\n",
       "        vertical-align: middle;\n",
       "    }\n",
       "\n",
       "    .dataframe tbody tr th {\n",
       "        vertical-align: top;\n",
       "    }\n",
       "\n",
       "    .dataframe thead th {\n",
       "        text-align: right;\n",
       "    }\n",
       "</style>\n",
       "<table border=\"1\" class=\"dataframe\">\n",
       "  <thead>\n",
       "    <tr style=\"text-align: right;\">\n",
       "      <th></th>\n",
       "      <th>password</th>\n",
       "      <th>hash</th>\n",
       "    </tr>\n",
       "  </thead>\n",
       "  <tbody>\n",
       "    <tr>\n",
       "      <th>0</th>\n",
       "      <td>OHcv-/U3QI$rdqYTef\"D</td>\n",
       "      <td>32385060987</td>\n",
       "    </tr>\n",
       "    <tr>\n",
       "      <th>1</th>\n",
       "      <td>QtA*.xM$e(+\"aO36r&amp;Uo</td>\n",
       "      <td>58482258375</td>\n",
       "    </tr>\n",
       "    <tr>\n",
       "      <th>2</th>\n",
       "      <td>T;rqw/ou'HN-Pklj6hM*</td>\n",
       "      <td>80960637150</td>\n",
       "    </tr>\n",
       "    <tr>\n",
       "      <th>3</th>\n",
       "      <td>b%xJ79\"A*C5@ehMfS3lu</td>\n",
       "      <td>3957624150</td>\n",
       "    </tr>\n",
       "    <tr>\n",
       "      <th>4</th>\n",
       "      <td>buI=;LpjBiCm\"JS5'#xy</td>\n",
       "      <td>79995253771</td>\n",
       "    </tr>\n",
       "  </tbody>\n",
       "</table>\n",
       "</div>"
      ],
      "text/plain": [
       "               password         hash\n",
       "0  OHcv-/U3QI$rdqYTef\"D  32385060987\n",
       "1  QtA*.xM$e(+\"aO36r&Uo  58482258375\n",
       "2  T;rqw/ou'HN-Pklj6hM*  80960637150\n",
       "3  b%xJ79\"A*C5@ehMfS3lu   3957624150\n",
       "4  buI=;LpjBiCm\"JS5'#xy  79995253771"
      ]
     },
     "execution_count": 39,
     "metadata": {},
     "output_type": "execute_result"
    }
   ],
   "source": [
    "df.head()"
   ]
  },
  {
   "cell_type": "markdown",
   "metadata": {},
   "source": [
    "#### Passwords"
   ]
  },
  {
   "cell_type": "code",
   "execution_count": 40,
   "metadata": {},
   "outputs": [],
   "source": [
    "#reading the password column from the txt file that produced from number_to_hash_C() function\n",
    "dfc=data_aggregator(\"passwordshashnumbersCCC.txt\",10000,'password')"
   ]
  },
  {
   "cell_type": "markdown",
   "metadata": {},
   "source": [
    "##### Find the duplicates count of password column"
   ]
  },
  {
   "cell_type": "code",
   "execution_count": 41,
   "metadata": {},
   "outputs": [],
   "source": [
    "dc=dfc.groupby(dfc.password.tolist(),as_index=False).size().reset_index(name='Count')"
   ]
  },
  {
   "cell_type": "code",
   "execution_count": 42,
   "metadata": {},
   "outputs": [],
   "source": [
    "dup_count_c=dc.loc[dc.Count>1].sum()"
   ]
  },
  {
   "cell_type": "code",
   "execution_count": 43,
   "metadata": {},
   "outputs": [],
   "source": [
    "password_dup_c=dup_count_c.Count"
   ]
  },
  {
   "cell_type": "code",
   "execution_count": 45,
   "metadata": {},
   "outputs": [
    {
     "data": {
      "text/plain": [
       "5000000"
      ]
     },
     "execution_count": 45,
     "metadata": {},
     "output_type": "execute_result"
    }
   ],
   "source": [
    "password_dup_c"
   ]
  },
  {
   "cell_type": "code",
   "execution_count": 46,
   "metadata": {},
   "outputs": [],
   "source": [
    "dc=None\n",
    "del dc\n",
    "dfc=None\n",
    "del dfc"
   ]
  },
  {
   "cell_type": "markdown",
   "metadata": {},
   "source": [
    "### FB count"
   ]
  },
  {
   "cell_type": "code",
   "execution_count": 47,
   "metadata": {},
   "outputs": [
    {
     "data": {
      "text/plain": [
       "0"
      ]
     },
     "execution_count": 47,
     "metadata": {},
     "output_type": "execute_result"
    }
   ],
   "source": [
    "FB('passwordshashnumbersCCC.txt')"
   ]
  },
  {
   "cell_type": "markdown",
   "metadata": {},
   "source": [
    "In ordered case: duplicates=5000000,FB=0"
   ]
  },
  {
   "cell_type": "markdown",
   "metadata": {},
   "source": [
    "#### -----------------------------------------------------------------------------------------------------------------------------------------------------------------------------------------"
   ]
  }
 ],
 "metadata": {
  "kernelspec": {
   "display_name": "Python 3",
   "language": "python",
   "name": "python3"
  },
  "language_info": {
   "codemirror_mode": {
    "name": "ipython",
    "version": 3
   },
   "file_extension": ".py",
   "mimetype": "text/x-python",
   "name": "python",
   "nbconvert_exporter": "python",
   "pygments_lexer": "ipython3",
   "version": "3.7.1"
  }
 },
 "nbformat": 4,
 "nbformat_minor": 2
}
